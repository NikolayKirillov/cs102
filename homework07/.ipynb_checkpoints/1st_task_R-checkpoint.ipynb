{
 "cells": [
  {
   "cell_type": "code",
   "execution_count": 7,
   "metadata": {},
   "outputs": [
    {
     "data": {
      "text/html": [
       "<table>\n",
       "<thead><tr><th scope=col>age</th><th scope=col>workclass</th><th scope=col>fnlwgt</th><th scope=col>education</th><th scope=col>education.num</th><th scope=col>marital.status</th><th scope=col>occupation</th><th scope=col>relationship</th><th scope=col>race</th><th scope=col>sex</th><th scope=col>capital.gain</th><th scope=col>capital.loss</th><th scope=col>hours.per.week</th><th scope=col>native.country</th><th scope=col>salary</th></tr></thead>\n",
       "<tbody>\n",
       "\t<tr><td>39                                                        </td><td><span style=white-space:pre-wrap>State-gov       </span>  </td><td> 77516                                                    </td><td>Bachelors                                                 </td><td>13                                                        </td><td><span style=white-space:pre-wrap>Never-married     </span></td><td><span style=white-space:pre-wrap>Adm-clerical     </span> </td><td>Not-in-family                                             </td><td>White                                                     </td><td><span style=white-space:pre-wrap>Male  </span>            </td><td>2174                                                      </td><td>0                                                         </td><td>40                                                        </td><td>United-States                                             </td><td>&lt;=50K                                                  </td></tr>\n",
       "\t<tr><td>50                                                       </td><td>Self-emp-not-inc                                         </td><td> 83311                                                   </td><td>Bachelors                                                </td><td>13                                                       </td><td>Married-civ-spouse                                       </td><td><span style=white-space:pre-wrap>Exec-managerial  </span></td><td><span style=white-space:pre-wrap>Husband      </span>    </td><td>White                                                    </td><td><span style=white-space:pre-wrap>Male  </span>           </td><td><span style=white-space:pre-wrap>   0</span>             </td><td>0                                                        </td><td>13                                                       </td><td>United-States                                            </td><td>&lt;=50K                                                 </td></tr>\n",
       "\t<tr><td>38                                                        </td><td><span style=white-space:pre-wrap>Private         </span>  </td><td>215646                                                    </td><td><span style=white-space:pre-wrap>HS-grad  </span>         </td><td> 9                                                        </td><td><span style=white-space:pre-wrap>Divorced          </span></td><td>Handlers-cleaners                                         </td><td>Not-in-family                                             </td><td>White                                                     </td><td><span style=white-space:pre-wrap>Male  </span>            </td><td><span style=white-space:pre-wrap>   0</span>              </td><td>0                                                         </td><td>40                                                        </td><td>United-States                                             </td><td>&lt;=50K                                                  </td></tr>\n",
       "\t<tr><td>53                                                      </td><td><span style=white-space:pre-wrap>Private         </span></td><td>234721                                                  </td><td><span style=white-space:pre-wrap>11th     </span>       </td><td> 7                                                      </td><td>Married-civ-spouse                                      </td><td>Handlers-cleaners                                       </td><td><span style=white-space:pre-wrap>Husband      </span>   </td><td>Black                                                   </td><td><span style=white-space:pre-wrap>Male  </span>          </td><td><span style=white-space:pre-wrap>   0</span>            </td><td>0                                                       </td><td>40                                                      </td><td>United-States                                           </td><td>&lt;=50K                                                </td></tr>\n",
       "\t<tr><td>28                                                       </td><td><span style=white-space:pre-wrap>Private         </span> </td><td>338409                                                   </td><td>Bachelors                                                </td><td>13                                                       </td><td>Married-civ-spouse                                       </td><td><span style=white-space:pre-wrap>Prof-specialty   </span></td><td><span style=white-space:pre-wrap>Wife         </span>    </td><td>Black                                                    </td><td>Female                                                   </td><td><span style=white-space:pre-wrap>   0</span>             </td><td>0                                                        </td><td>40                                                       </td><td><span style=white-space:pre-wrap>Cuba         </span>    </td><td>&lt;=50K                                                 </td></tr>\n",
       "\t<tr><td>37                                                       </td><td><span style=white-space:pre-wrap>Private         </span> </td><td>284582                                                   </td><td><span style=white-space:pre-wrap>Masters  </span>        </td><td>14                                                       </td><td>Married-civ-spouse                                       </td><td><span style=white-space:pre-wrap>Exec-managerial  </span></td><td><span style=white-space:pre-wrap>Wife         </span>    </td><td>White                                                    </td><td>Female                                                   </td><td><span style=white-space:pre-wrap>   0</span>             </td><td>0                                                        </td><td>40                                                       </td><td>United-States                                            </td><td>&lt;=50K                                                 </td></tr>\n",
       "</tbody>\n",
       "</table>\n"
      ],
      "text/latex": [
       "\\begin{tabular}{r|lllllllllllllll}\n",
       " age & workclass & fnlwgt & education & education.num & marital.status & occupation & relationship & race & sex & capital.gain & capital.loss & hours.per.week & native.country & salary\\\\\n",
       "\\hline\n",
       "\t 39                 & State-gov          &  77516             & Bachelors          & 13                 & Never-married      & Adm-clerical       & Not-in-family      & White              & Male               & 2174               & 0                  & 40                 & United-States      & <=50K             \\\\\n",
       "\t 50                 & Self-emp-not-inc   &  83311             & Bachelors          & 13                 & Married-civ-spouse & Exec-managerial    & Husband            & White              & Male               &    0               & 0                  & 13                 & United-States      & <=50K             \\\\\n",
       "\t 38                 & Private            & 215646             & HS-grad            &  9                 & Divorced           & Handlers-cleaners  & Not-in-family      & White              & Male               &    0               & 0                  & 40                 & United-States      & <=50K             \\\\\n",
       "\t 53                 & Private            & 234721             & 11th               &  7                 & Married-civ-spouse & Handlers-cleaners  & Husband            & Black              & Male               &    0               & 0                  & 40                 & United-States      & <=50K             \\\\\n",
       "\t 28                 & Private            & 338409             & Bachelors          & 13                 & Married-civ-spouse & Prof-specialty     & Wife               & Black              & Female             &    0               & 0                  & 40                 & Cuba               & <=50K             \\\\\n",
       "\t 37                 & Private            & 284582             & Masters            & 14                 & Married-civ-spouse & Exec-managerial    & Wife               & White              & Female             &    0               & 0                  & 40                 & United-States      & <=50K             \\\\\n",
       "\\end{tabular}\n"
      ],
      "text/markdown": [
       "\n",
       "| age | workclass | fnlwgt | education | education.num | marital.status | occupation | relationship | race | sex | capital.gain | capital.loss | hours.per.week | native.country | salary |\n",
       "|---|---|---|---|---|---|---|---|---|---|---|---|---|---|---|\n",
       "| 39                 | State-gov          |  77516             | Bachelors          | 13                 | Never-married      | Adm-clerical       | Not-in-family      | White              | Male               | 2174               | 0                  | 40                 | United-States      | <=50K              |\n",
       "| 50                 | Self-emp-not-inc   |  83311             | Bachelors          | 13                 | Married-civ-spouse | Exec-managerial    | Husband            | White              | Male               |    0               | 0                  | 13                 | United-States      | <=50K              |\n",
       "| 38                 | Private            | 215646             | HS-grad            |  9                 | Divorced           | Handlers-cleaners  | Not-in-family      | White              | Male               |    0               | 0                  | 40                 | United-States      | <=50K              |\n",
       "| 53                 | Private            | 234721             | 11th               |  7                 | Married-civ-spouse | Handlers-cleaners  | Husband            | Black              | Male               |    0               | 0                  | 40                 | United-States      | <=50K              |\n",
       "| 28                 | Private            | 338409             | Bachelors          | 13                 | Married-civ-spouse | Prof-specialty     | Wife               | Black              | Female             |    0               | 0                  | 40                 | Cuba               | <=50K              |\n",
       "| 37                 | Private            | 284582             | Masters            | 14                 | Married-civ-spouse | Exec-managerial    | Wife               | White              | Female             |    0               | 0                  | 40                 | United-States      | <=50K              |\n",
       "\n"
      ],
      "text/plain": [
       "  age workclass        fnlwgt education education.num marital.status    \n",
       "1 39  State-gov         77516 Bachelors 13            Never-married     \n",
       "2 50  Self-emp-not-inc  83311 Bachelors 13            Married-civ-spouse\n",
       "3 38  Private          215646 HS-grad    9            Divorced          \n",
       "4 53  Private          234721 11th       7            Married-civ-spouse\n",
       "5 28  Private          338409 Bachelors 13            Married-civ-spouse\n",
       "6 37  Private          284582 Masters   14            Married-civ-spouse\n",
       "  occupation        relationship  race  sex    capital.gain capital.loss\n",
       "1 Adm-clerical      Not-in-family White Male   2174         0           \n",
       "2 Exec-managerial   Husband       White Male      0         0           \n",
       "3 Handlers-cleaners Not-in-family White Male      0         0           \n",
       "4 Handlers-cleaners Husband       Black Male      0         0           \n",
       "5 Prof-specialty    Wife          Black Female    0         0           \n",
       "6 Exec-managerial   Wife          White Female    0         0           \n",
       "  hours.per.week native.country salary\n",
       "1 40             United-States  <=50K \n",
       "2 13             United-States  <=50K \n",
       "3 40             United-States  <=50K \n",
       "4 40             United-States  <=50K \n",
       "5 40             Cuba           <=50K \n",
       "6 40             United-States  <=50K "
      ]
     },
     "metadata": {},
     "output_type": "display_data"
    }
   ],
   "source": [
    "df <- read.csv('adult_data.csv', stringsAsFactors=TRUE)\n",
    "head(df)"
   ]
  },
  {
   "cell_type": "code",
   "execution_count": null,
   "metadata": {},
   "outputs": [],
   "source": [
    "# 1. Сколько мужчин и женщин (признак sex) представлено в этом наборе данных?"
   ]
  },
  {
   "cell_type": "code",
   "execution_count": 8,
   "metadata": {},
   "outputs": [],
   "source": [
    "male <- df[df$sex == 'Male', ]"
   ]
  },
  {
   "cell_type": "code",
   "execution_count": 9,
   "metadata": {},
   "outputs": [
    {
     "data": {
      "text/html": [
       "21790"
      ],
      "text/latex": [
       "21790"
      ],
      "text/markdown": [
       "21790"
      ],
      "text/plain": [
       "[1] 21790"
      ]
     },
     "metadata": {},
     "output_type": "display_data"
    }
   ],
   "source": [
    "nrow(male)"
   ]
  },
  {
   "cell_type": "code",
   "execution_count": 10,
   "metadata": {},
   "outputs": [],
   "source": [
    "fem <- df[df$sex == 'Female', ]"
   ]
  },
  {
   "cell_type": "code",
   "execution_count": 11,
   "metadata": {},
   "outputs": [
    {
     "data": {
      "text/html": [
       "10771"
      ],
      "text/latex": [
       "10771"
      ],
      "text/markdown": [
       "10771"
      ],
      "text/plain": [
       "[1] 10771"
      ]
     },
     "metadata": {},
     "output_type": "display_data"
    }
   ],
   "source": [
    "nrow(fem)"
   ]
  },
  {
   "cell_type": "code",
   "execution_count": null,
   "metadata": {},
   "outputs": [],
   "source": [
    "# ответ - 21790 мужчин и 10771 женщина"
   ]
  },
  {
   "cell_type": "code",
   "execution_count": 6,
   "metadata": {},
   "outputs": [],
   "source": [
    "# 2. Каков средний возраст (признак age) женщин?"
   ]
  },
  {
   "cell_type": "code",
   "execution_count": 12,
   "metadata": {},
   "outputs": [
    {
     "data": {
      "text/html": [
       "36.8582304335716"
      ],
      "text/latex": [
       "36.8582304335716"
      ],
      "text/markdown": [
       "36.8582304335716"
      ],
      "text/plain": [
       "[1] 36.85823"
      ]
     },
     "metadata": {},
     "output_type": "display_data"
    }
   ],
   "source": [
    "mean(df[df$sex == 'Female', 'age'])"
   ]
  },
  {
   "cell_type": "code",
   "execution_count": null,
   "metadata": {},
   "outputs": [],
   "source": [
    "# 3. Какова доля граждан Германии (признак native-country)? "
   ]
  },
  {
   "cell_type": "code",
   "execution_count": 13,
   "metadata": {},
   "outputs": [
    {
     "data": {
      "text/plain": [
       "\n",
       "                         ?                   Cambodia \n",
       "              1.790486e-02               5.835202e-04 \n",
       "                    Canada                      China \n",
       "              3.716102e-03               2.303369e-03 \n",
       "                  Columbia                       Cuba \n",
       "              1.811984e-03               2.917601e-03 \n",
       "        Dominican-Republic                    Ecuador \n",
       "              2.149811e-03               8.599244e-04 \n",
       "               El-Salvador                    England \n",
       "              3.255428e-03               2.764043e-03 \n",
       "                    France                    Germany \n",
       "              8.906360e-04               4.207487e-03 \n",
       "                    Greece                  Guatemala \n",
       "              8.906360e-04               1.965542e-03 \n",
       "                     Haiti         Holand-Netherlands \n",
       "              1.351310e-03               3.071159e-05 \n",
       "                  Honduras                       Hong \n",
       "              3.992506e-04               6.142317e-04 \n",
       "                   Hungary                      India \n",
       "              3.992506e-04               3.071159e-03 \n",
       "                      Iran                    Ireland \n",
       "              1.320598e-03               7.370781e-04 \n",
       "                     Italy                    Jamaica \n",
       "              2.241946e-03               2.487639e-03 \n",
       "                     Japan                       Laos \n",
       "              1.904118e-03               5.528086e-04 \n",
       "                    Mexico                  Nicaragua \n",
       "              1.974755e-02               1.044194e-03 \n",
       "Outlying-US(Guam-USVI-etc)                       Peru \n",
       "              4.299622e-04               9.520592e-04 \n",
       "               Philippines                     Poland \n",
       "              6.080894e-03               1.842695e-03 \n",
       "                  Portugal                Puerto-Rico \n",
       "              1.136329e-03               3.501121e-03 \n",
       "                  Scotland                      South \n",
       "              3.685390e-04               2.456927e-03 \n",
       "                    Taiwan                   Thailand \n",
       "              1.566291e-03               5.528086e-04 \n",
       "           Trinadad&Tobago              United-States \n",
       "              5.835202e-04               8.958570e-01 \n",
       "                   Vietnam                 Yugoslavia \n",
       "              2.057676e-03               4.913854e-04 "
      ]
     },
     "metadata": {},
     "output_type": "display_data"
    }
   ],
   "source": [
    "prop.table(table(df$native.country))"
   ]
  },
  {
   "cell_type": "code",
   "execution_count": null,
   "metadata": {},
   "outputs": [],
   "source": [
    "# ответ: 4.207487e-03"
   ]
  },
  {
   "cell_type": "code",
   "execution_count": null,
   "metadata": {},
   "outputs": [],
   "source": [
    "# 4-5. Каковы средние значения и среднеквадратичные отклонения возраста тех, кто получает более 50K в год (признак salary) и тех, кто получает менее 50K в год?"
   ]
  },
  {
   "cell_type": "code",
   "execution_count": 9,
   "metadata": {},
   "outputs": [
    {
     "ename": "ERROR",
     "evalue": "Error in table(df$native.country == Germany): object 'Germany' not found\n",
     "output_type": "error",
     "traceback": [
      "Error in table(df$native.country == Germany): object 'Germany' not found\nTraceback:\n",
      "1. prop.table(table(df$native.country == Germany))",
      "2. table(df$native.country == Germany)"
     ]
    }
   ],
   "source": [
    "prop.table(table(df$native.country == Germany))"
   ]
  },
  {
   "cell_type": "code",
   "execution_count": null,
   "metadata": {},
   "outputs": [],
   "source": [
    "# 6. Правда ли, что люди, которые получают больше 50k, имеют как минимум высшее образование? (признак education – Bachelors, Prof-school, Assoc-acdm, Assoc-voc, Masters или Doctorate)"
   ]
  },
  {
   "cell_type": "code",
   "execution_count": 14,
   "metadata": {},
   "outputs": [],
   "source": [
    "a <- df[df$salary == '>50K', ]"
   ]
  },
  {
   "cell_type": "code",
   "execution_count": 15,
   "metadata": {},
   "outputs": [
    {
     "name": "stderr",
     "output_type": "stream",
     "text": [
      "\n",
      "Attaching package: ‘dplyr’\n",
      "\n",
      "The following objects are masked from ‘package:stats’:\n",
      "\n",
      "    filter, lag\n",
      "\n",
      "The following objects are masked from ‘package:base’:\n",
      "\n",
      "    intersect, setdiff, setequal, union\n",
      "\n"
     ]
    },
    {
     "data": {
      "text/html": [
       "<table>\n",
       "<thead><tr><th scope=col>education</th><th scope=col>n</th></tr></thead>\n",
       "<tbody>\n",
       "\t<tr><td>10th        </td><td>  62        </td></tr>\n",
       "\t<tr><td>11th        </td><td>  60        </td></tr>\n",
       "\t<tr><td>12th        </td><td>  33        </td></tr>\n",
       "\t<tr><td>1st-4th     </td><td>   6        </td></tr>\n",
       "\t<tr><td>5th-6th     </td><td>  16        </td></tr>\n",
       "\t<tr><td>7th-8th     </td><td>  40        </td></tr>\n",
       "\t<tr><td>9th         </td><td>  27        </td></tr>\n",
       "\t<tr><td>Assoc-acdm  </td><td> 265        </td></tr>\n",
       "\t<tr><td>Assoc-voc   </td><td> 361        </td></tr>\n",
       "\t<tr><td>Bachelors   </td><td>2221        </td></tr>\n",
       "\t<tr><td>Doctorate   </td><td> 306        </td></tr>\n",
       "\t<tr><td>HS-grad     </td><td>1675        </td></tr>\n",
       "\t<tr><td>Masters     </td><td> 959        </td></tr>\n",
       "\t<tr><td>Prof-school </td><td> 423        </td></tr>\n",
       "\t<tr><td>Some-college</td><td>1387        </td></tr>\n",
       "</tbody>\n",
       "</table>\n"
      ],
      "text/latex": [
       "\\begin{tabular}{r|ll}\n",
       " education & n\\\\\n",
       "\\hline\n",
       "\t 10th         &   62        \\\\\n",
       "\t 11th         &   60        \\\\\n",
       "\t 12th         &   33        \\\\\n",
       "\t 1st-4th      &    6        \\\\\n",
       "\t 5th-6th      &   16        \\\\\n",
       "\t 7th-8th      &   40        \\\\\n",
       "\t 9th          &   27        \\\\\n",
       "\t Assoc-acdm   &  265        \\\\\n",
       "\t Assoc-voc    &  361        \\\\\n",
       "\t Bachelors    & 2221        \\\\\n",
       "\t Doctorate    &  306        \\\\\n",
       "\t HS-grad      & 1675        \\\\\n",
       "\t Masters      &  959        \\\\\n",
       "\t Prof-school  &  423        \\\\\n",
       "\t Some-college & 1387        \\\\\n",
       "\\end{tabular}\n"
      ],
      "text/markdown": [
       "\n",
       "| education | n |\n",
       "|---|---|\n",
       "| 10th         |   62         |\n",
       "| 11th         |   60         |\n",
       "| 12th         |   33         |\n",
       "| 1st-4th      |    6         |\n",
       "| 5th-6th      |   16         |\n",
       "| 7th-8th      |   40         |\n",
       "| 9th          |   27         |\n",
       "| Assoc-acdm   |  265         |\n",
       "| Assoc-voc    |  361         |\n",
       "| Bachelors    | 2221         |\n",
       "| Doctorate    |  306         |\n",
       "| HS-grad      | 1675         |\n",
       "| Masters      |  959         |\n",
       "| Prof-school  |  423         |\n",
       "| Some-college | 1387         |\n",
       "\n"
      ],
      "text/plain": [
       "   education    n   \n",
       "1  10th           62\n",
       "2  11th           60\n",
       "3  12th           33\n",
       "4  1st-4th         6\n",
       "5  5th-6th        16\n",
       "6  7th-8th        40\n",
       "7  9th            27\n",
       "8  Assoc-acdm    265\n",
       "9  Assoc-voc     361\n",
       "10 Bachelors    2221\n",
       "11 Doctorate     306\n",
       "12 HS-grad      1675\n",
       "13 Masters       959\n",
       "14 Prof-school   423\n",
       "15 Some-college 1387"
      ]
     },
     "metadata": {},
     "output_type": "display_data"
    }
   ],
   "source": [
    "library(dplyr)\n",
    "a %>% group_by(education) %>% summarise(n = n())"
   ]
  },
  {
   "cell_type": "code",
   "execution_count": null,
   "metadata": {},
   "outputs": [],
   "source": []
  },
  {
   "cell_type": "code",
   "execution_count": null,
   "metadata": {},
   "outputs": [],
   "source": [
    "# ответ: нет, неправда, здесь мы можем видеть и людей с другим образованием,которые столько зарабатывают"
   ]
  },
  {
   "cell_type": "code",
   "execution_count": null,
   "metadata": {},
   "outputs": [],
   "source": [
    "# 7. Выведите статистику возраста для каждой расы (признак race) и каждого пола. Найдите таким образом максимальный возраст мужчин расы Amer-Indian-Eskimo."
   ]
  },
  {
   "cell_type": "code",
   "execution_count": null,
   "metadata": {},
   "outputs": [],
   "source": [
    "# 9. Какое максимальное число часов человек работает в неделю (признак hours-per-week)? Сколько людей работают такое количество часов и каков среди них процент зарабатывающих много?"
   ]
  },
  {
   "cell_type": "code",
   "execution_count": 2,
   "metadata": {},
   "outputs": [
    {
     "ename": "SyntaxError",
     "evalue": "invalid syntax (<ipython-input-2-35c2843b04a4>, line 1)",
     "output_type": "error",
     "traceback": [
      "\u001b[0;36m  File \u001b[0;32m\"<ipython-input-2-35c2843b04a4>\"\u001b[0;36m, line \u001b[0;32m1\u001b[0m\n\u001b[0;31m    hours = df %>% group_by(salary) %>% summarise(n = n(), max = max(hours.per.week))\u001b[0m\n\u001b[0m                ^\u001b[0m\n\u001b[0;31mSyntaxError\u001b[0m\u001b[0;31m:\u001b[0m invalid syntax\n"
     ]
    }
   ],
   "source": [
    "hours = df %>% group_by(salary) %>% summarise(n = n(), max = max(hours.per.week))"
   ]
  },
  {
   "cell_type": "code",
   "execution_count": null,
   "metadata": {},
   "outputs": [],
   "source": [
    "# 10. 10. Посчитайте среднее время работы (hours-per-week) зарабатывающих мало и много (salary) для каждой страны (native-country)."
   ]
  },
  {
   "cell_type": "code",
   "execution_count": 16,
   "metadata": {},
   "outputs": [],
   "source": [
    "high <- df[df$salary == '>50K', ]\n",
    "low <- df[df$salary == '<=50K', ]"
   ]
  },
  {
   "cell_type": "code",
   "execution_count": 18,
   "metadata": {},
   "outputs": [
    {
     "data": {
      "text/html": [
       "<table>\n",
       "<thead><tr><th scope=col>native.country</th><th scope=col>mean</th></tr></thead>\n",
       "<tbody>\n",
       "\t<tr><td>?                 </td><td>45.54795          </td></tr>\n",
       "\t<tr><td>Cambodia          </td><td>40.00000          </td></tr>\n",
       "\t<tr><td>Canada            </td><td>45.64103          </td></tr>\n",
       "\t<tr><td>China             </td><td>38.90000          </td></tr>\n",
       "\t<tr><td>Columbia          </td><td>50.00000          </td></tr>\n",
       "\t<tr><td>Cuba              </td><td>42.44000          </td></tr>\n",
       "\t<tr><td>Dominican-Republic</td><td>47.00000          </td></tr>\n",
       "\t<tr><td>Ecuador           </td><td>48.75000          </td></tr>\n",
       "\t<tr><td>El-Salvador       </td><td>45.00000          </td></tr>\n",
       "\t<tr><td>England           </td><td>44.53333          </td></tr>\n",
       "\t<tr><td>France            </td><td>50.75000          </td></tr>\n",
       "\t<tr><td>Germany           </td><td>44.97727          </td></tr>\n",
       "\t<tr><td>Greece            </td><td>50.62500          </td></tr>\n",
       "\t<tr><td>Guatemala         </td><td>36.66667          </td></tr>\n",
       "\t<tr><td>Haiti             </td><td>42.75000          </td></tr>\n",
       "\t<tr><td>Honduras          </td><td>60.00000          </td></tr>\n",
       "\t<tr><td>Hong              </td><td>45.00000          </td></tr>\n",
       "\t<tr><td>Hungary           </td><td>50.00000          </td></tr>\n",
       "\t<tr><td>India             </td><td>46.47500          </td></tr>\n",
       "\t<tr><td>Iran              </td><td>47.50000          </td></tr>\n",
       "\t<tr><td>Ireland           </td><td>48.00000          </td></tr>\n",
       "\t<tr><td>Italy             </td><td>45.40000          </td></tr>\n",
       "\t<tr><td>Jamaica           </td><td>41.10000          </td></tr>\n",
       "\t<tr><td>Japan             </td><td>47.95833          </td></tr>\n",
       "\t<tr><td>Laos              </td><td>40.00000          </td></tr>\n",
       "\t<tr><td>Mexico            </td><td>46.57576          </td></tr>\n",
       "\t<tr><td>Nicaragua         </td><td>37.50000          </td></tr>\n",
       "\t<tr><td>Peru              </td><td>40.00000          </td></tr>\n",
       "\t<tr><td>Philippines       </td><td>43.03279          </td></tr>\n",
       "\t<tr><td>Poland            </td><td>39.00000          </td></tr>\n",
       "\t<tr><td>Portugal          </td><td>41.50000          </td></tr>\n",
       "\t<tr><td>Puerto-Rico       </td><td>39.41667          </td></tr>\n",
       "\t<tr><td>Scotland          </td><td>46.66667          </td></tr>\n",
       "\t<tr><td>South             </td><td>51.43750          </td></tr>\n",
       "\t<tr><td>Taiwan            </td><td>46.80000          </td></tr>\n",
       "\t<tr><td>Thailand          </td><td>58.33333          </td></tr>\n",
       "\t<tr><td><span style=white-space:pre-wrap>Trinadad&amp;Tobago   </span></td><td>40.00000                                                      </td></tr>\n",
       "\t<tr><td>United-States     </td><td>45.50537          </td></tr>\n",
       "\t<tr><td>Vietnam           </td><td>39.20000          </td></tr>\n",
       "\t<tr><td>Yugoslavia        </td><td>49.50000          </td></tr>\n",
       "</tbody>\n",
       "</table>\n"
      ],
      "text/latex": [
       "\\begin{tabular}{r|ll}\n",
       " native.country & mean\\\\\n",
       "\\hline\n",
       "\t ?                  & 45.54795          \\\\\n",
       "\t Cambodia           & 40.00000          \\\\\n",
       "\t Canada             & 45.64103          \\\\\n",
       "\t China              & 38.90000          \\\\\n",
       "\t Columbia           & 50.00000          \\\\\n",
       "\t Cuba               & 42.44000          \\\\\n",
       "\t Dominican-Republic & 47.00000          \\\\\n",
       "\t Ecuador            & 48.75000          \\\\\n",
       "\t El-Salvador        & 45.00000          \\\\\n",
       "\t England            & 44.53333          \\\\\n",
       "\t France             & 50.75000          \\\\\n",
       "\t Germany            & 44.97727          \\\\\n",
       "\t Greece             & 50.62500          \\\\\n",
       "\t Guatemala          & 36.66667          \\\\\n",
       "\t Haiti              & 42.75000          \\\\\n",
       "\t Honduras           & 60.00000          \\\\\n",
       "\t Hong               & 45.00000          \\\\\n",
       "\t Hungary            & 50.00000          \\\\\n",
       "\t India              & 46.47500          \\\\\n",
       "\t Iran               & 47.50000          \\\\\n",
       "\t Ireland            & 48.00000          \\\\\n",
       "\t Italy              & 45.40000          \\\\\n",
       "\t Jamaica            & 41.10000          \\\\\n",
       "\t Japan              & 47.95833          \\\\\n",
       "\t Laos               & 40.00000          \\\\\n",
       "\t Mexico             & 46.57576          \\\\\n",
       "\t Nicaragua          & 37.50000          \\\\\n",
       "\t Peru               & 40.00000          \\\\\n",
       "\t Philippines        & 43.03279          \\\\\n",
       "\t Poland             & 39.00000          \\\\\n",
       "\t Portugal           & 41.50000          \\\\\n",
       "\t Puerto-Rico        & 39.41667          \\\\\n",
       "\t Scotland           & 46.66667          \\\\\n",
       "\t South              & 51.43750          \\\\\n",
       "\t Taiwan             & 46.80000          \\\\\n",
       "\t Thailand           & 58.33333          \\\\\n",
       "\t Trinadad\\&Tobago    & 40.00000            \\\\\n",
       "\t United-States      & 45.50537          \\\\\n",
       "\t Vietnam            & 39.20000          \\\\\n",
       "\t Yugoslavia         & 49.50000          \\\\\n",
       "\\end{tabular}\n"
      ],
      "text/markdown": [
       "\n",
       "| native.country | mean |\n",
       "|---|---|\n",
       "| ?                  | 45.54795           |\n",
       "| Cambodia           | 40.00000           |\n",
       "| Canada             | 45.64103           |\n",
       "| China              | 38.90000           |\n",
       "| Columbia           | 50.00000           |\n",
       "| Cuba               | 42.44000           |\n",
       "| Dominican-Republic | 47.00000           |\n",
       "| Ecuador            | 48.75000           |\n",
       "| El-Salvador        | 45.00000           |\n",
       "| England            | 44.53333           |\n",
       "| France             | 50.75000           |\n",
       "| Germany            | 44.97727           |\n",
       "| Greece             | 50.62500           |\n",
       "| Guatemala          | 36.66667           |\n",
       "| Haiti              | 42.75000           |\n",
       "| Honduras           | 60.00000           |\n",
       "| Hong               | 45.00000           |\n",
       "| Hungary            | 50.00000           |\n",
       "| India              | 46.47500           |\n",
       "| Iran               | 47.50000           |\n",
       "| Ireland            | 48.00000           |\n",
       "| Italy              | 45.40000           |\n",
       "| Jamaica            | 41.10000           |\n",
       "| Japan              | 47.95833           |\n",
       "| Laos               | 40.00000           |\n",
       "| Mexico             | 46.57576           |\n",
       "| Nicaragua          | 37.50000           |\n",
       "| Peru               | 40.00000           |\n",
       "| Philippines        | 43.03279           |\n",
       "| Poland             | 39.00000           |\n",
       "| Portugal           | 41.50000           |\n",
       "| Puerto-Rico        | 39.41667           |\n",
       "| Scotland           | 46.66667           |\n",
       "| South              | 51.43750           |\n",
       "| Taiwan             | 46.80000           |\n",
       "| Thailand           | 58.33333           |\n",
       "| Trinadad&Tobago    | 40.00000           |\n",
       "| United-States      | 45.50537           |\n",
       "| Vietnam            | 39.20000           |\n",
       "| Yugoslavia         | 49.50000           |\n",
       "\n"
      ],
      "text/plain": [
       "   native.country     mean    \n",
       "1  ?                  45.54795\n",
       "2  Cambodia           40.00000\n",
       "3  Canada             45.64103\n",
       "4  China              38.90000\n",
       "5  Columbia           50.00000\n",
       "6  Cuba               42.44000\n",
       "7  Dominican-Republic 47.00000\n",
       "8  Ecuador            48.75000\n",
       "9  El-Salvador        45.00000\n",
       "10 England            44.53333\n",
       "11 France             50.75000\n",
       "12 Germany            44.97727\n",
       "13 Greece             50.62500\n",
       "14 Guatemala          36.66667\n",
       "15 Haiti              42.75000\n",
       "16 Honduras           60.00000\n",
       "17 Hong               45.00000\n",
       "18 Hungary            50.00000\n",
       "19 India              46.47500\n",
       "20 Iran               47.50000\n",
       "21 Ireland            48.00000\n",
       "22 Italy              45.40000\n",
       "23 Jamaica            41.10000\n",
       "24 Japan              47.95833\n",
       "25 Laos               40.00000\n",
       "26 Mexico             46.57576\n",
       "27 Nicaragua          37.50000\n",
       "28 Peru               40.00000\n",
       "29 Philippines        43.03279\n",
       "30 Poland             39.00000\n",
       "31 Portugal           41.50000\n",
       "32 Puerto-Rico        39.41667\n",
       "33 Scotland           46.66667\n",
       "34 South              51.43750\n",
       "35 Taiwan             46.80000\n",
       "36 Thailand           58.33333\n",
       "37 Trinadad&Tobago    40.00000\n",
       "38 United-States      45.50537\n",
       "39 Vietnam            39.20000\n",
       "40 Yugoslavia         49.50000"
      ]
     },
     "metadata": {},
     "output_type": "display_data"
    }
   ],
   "source": [
    "high %>% group_by(native.country) %>% summarise(mean = mean(hours.per.week))"
   ]
  },
  {
   "cell_type": "code",
   "execution_count": 19,
   "metadata": {},
   "outputs": [
    {
     "data": {
      "text/html": [
       "<table>\n",
       "<thead><tr><th scope=col>native.country</th><th scope=col>mean</th></tr></thead>\n",
       "<tbody>\n",
       "\t<tr><td>?                         </td><td>40.16476                  </td></tr>\n",
       "\t<tr><td>Cambodia                  </td><td>41.41667                  </td></tr>\n",
       "\t<tr><td>Canada                    </td><td>37.91463                  </td></tr>\n",
       "\t<tr><td>China                     </td><td>37.38182                  </td></tr>\n",
       "\t<tr><td>Columbia                  </td><td>38.68421                  </td></tr>\n",
       "\t<tr><td>Cuba                      </td><td>37.98571                  </td></tr>\n",
       "\t<tr><td>Dominican-Republic        </td><td>42.33824                  </td></tr>\n",
       "\t<tr><td>Ecuador                   </td><td>38.04167                  </td></tr>\n",
       "\t<tr><td>El-Salvador               </td><td>36.03093                  </td></tr>\n",
       "\t<tr><td>England                   </td><td>40.48333                  </td></tr>\n",
       "\t<tr><td>France                    </td><td>41.05882                  </td></tr>\n",
       "\t<tr><td>Germany                   </td><td>39.13978                  </td></tr>\n",
       "\t<tr><td>Greece                    </td><td>41.80952                  </td></tr>\n",
       "\t<tr><td>Guatemala                 </td><td>39.36066                  </td></tr>\n",
       "\t<tr><td>Haiti                     </td><td>36.32500                  </td></tr>\n",
       "\t<tr><td>Holand-Netherlands        </td><td>40.00000                  </td></tr>\n",
       "\t<tr><td>Honduras                  </td><td>34.33333                  </td></tr>\n",
       "\t<tr><td>Hong                      </td><td>39.14286                  </td></tr>\n",
       "\t<tr><td>Hungary                   </td><td>31.30000                  </td></tr>\n",
       "\t<tr><td>India                     </td><td>38.23333                  </td></tr>\n",
       "\t<tr><td>Iran                      </td><td>41.44000                  </td></tr>\n",
       "\t<tr><td>Ireland                   </td><td>40.94737                  </td></tr>\n",
       "\t<tr><td>Italy                     </td><td>39.62500                  </td></tr>\n",
       "\t<tr><td>Jamaica                   </td><td>38.23944                  </td></tr>\n",
       "\t<tr><td>Japan                     </td><td>41.00000                  </td></tr>\n",
       "\t<tr><td>Laos                      </td><td>40.37500                  </td></tr>\n",
       "\t<tr><td>Mexico                    </td><td>40.00328                  </td></tr>\n",
       "\t<tr><td>Nicaragua                 </td><td>36.09375                  </td></tr>\n",
       "\t<tr><td>Outlying-US(Guam-USVI-etc)</td><td>41.85714                  </td></tr>\n",
       "\t<tr><td>Peru                      </td><td>35.06897                  </td></tr>\n",
       "\t<tr><td>Philippines               </td><td>38.06569                  </td></tr>\n",
       "\t<tr><td>Poland                    </td><td>38.16667                  </td></tr>\n",
       "\t<tr><td>Portugal                  </td><td>41.93939                  </td></tr>\n",
       "\t<tr><td>Puerto-Rico               </td><td>38.47059                  </td></tr>\n",
       "\t<tr><td>Scotland                  </td><td>39.44444                  </td></tr>\n",
       "\t<tr><td>South                     </td><td>40.15625                  </td></tr>\n",
       "\t<tr><td>Taiwan                    </td><td>33.77419                  </td></tr>\n",
       "\t<tr><td>Thailand                  </td><td>42.86667                  </td></tr>\n",
       "\t<tr><td><span style=white-space:pre-wrap>Trinadad&amp;Tobago           </span></td><td>37.05882                                                              </td></tr>\n",
       "\t<tr><td>United-States             </td><td>38.79913                  </td></tr>\n",
       "\t<tr><td>Vietnam                   </td><td>37.19355                  </td></tr>\n",
       "\t<tr><td>Yugoslavia                </td><td>41.60000                  </td></tr>\n",
       "</tbody>\n",
       "</table>\n"
      ],
      "text/latex": [
       "\\begin{tabular}{r|ll}\n",
       " native.country & mean\\\\\n",
       "\\hline\n",
       "\t ?                          & 40.16476                  \\\\\n",
       "\t Cambodia                   & 41.41667                  \\\\\n",
       "\t Canada                     & 37.91463                  \\\\\n",
       "\t China                      & 37.38182                  \\\\\n",
       "\t Columbia                   & 38.68421                  \\\\\n",
       "\t Cuba                       & 37.98571                  \\\\\n",
       "\t Dominican-Republic         & 42.33824                  \\\\\n",
       "\t Ecuador                    & 38.04167                  \\\\\n",
       "\t El-Salvador                & 36.03093                  \\\\\n",
       "\t England                    & 40.48333                  \\\\\n",
       "\t France                     & 41.05882                  \\\\\n",
       "\t Germany                    & 39.13978                  \\\\\n",
       "\t Greece                     & 41.80952                  \\\\\n",
       "\t Guatemala                  & 39.36066                  \\\\\n",
       "\t Haiti                      & 36.32500                  \\\\\n",
       "\t Holand-Netherlands         & 40.00000                  \\\\\n",
       "\t Honduras                   & 34.33333                  \\\\\n",
       "\t Hong                       & 39.14286                  \\\\\n",
       "\t Hungary                    & 31.30000                  \\\\\n",
       "\t India                      & 38.23333                  \\\\\n",
       "\t Iran                       & 41.44000                  \\\\\n",
       "\t Ireland                    & 40.94737                  \\\\\n",
       "\t Italy                      & 39.62500                  \\\\\n",
       "\t Jamaica                    & 38.23944                  \\\\\n",
       "\t Japan                      & 41.00000                  \\\\\n",
       "\t Laos                       & 40.37500                  \\\\\n",
       "\t Mexico                     & 40.00328                  \\\\\n",
       "\t Nicaragua                  & 36.09375                  \\\\\n",
       "\t Outlying-US(Guam-USVI-etc) & 41.85714                  \\\\\n",
       "\t Peru                       & 35.06897                  \\\\\n",
       "\t Philippines                & 38.06569                  \\\\\n",
       "\t Poland                     & 38.16667                  \\\\\n",
       "\t Portugal                   & 41.93939                  \\\\\n",
       "\t Puerto-Rico                & 38.47059                  \\\\\n",
       "\t Scotland                   & 39.44444                  \\\\\n",
       "\t South                      & 40.15625                  \\\\\n",
       "\t Taiwan                     & 33.77419                  \\\\\n",
       "\t Thailand                   & 42.86667                  \\\\\n",
       "\t Trinadad\\&Tobago            & 37.05882                    \\\\\n",
       "\t United-States              & 38.79913                  \\\\\n",
       "\t Vietnam                    & 37.19355                  \\\\\n",
       "\t Yugoslavia                 & 41.60000                  \\\\\n",
       "\\end{tabular}\n"
      ],
      "text/markdown": [
       "\n",
       "| native.country | mean |\n",
       "|---|---|\n",
       "| ?                          | 40.16476                   |\n",
       "| Cambodia                   | 41.41667                   |\n",
       "| Canada                     | 37.91463                   |\n",
       "| China                      | 37.38182                   |\n",
       "| Columbia                   | 38.68421                   |\n",
       "| Cuba                       | 37.98571                   |\n",
       "| Dominican-Republic         | 42.33824                   |\n",
       "| Ecuador                    | 38.04167                   |\n",
       "| El-Salvador                | 36.03093                   |\n",
       "| England                    | 40.48333                   |\n",
       "| France                     | 41.05882                   |\n",
       "| Germany                    | 39.13978                   |\n",
       "| Greece                     | 41.80952                   |\n",
       "| Guatemala                  | 39.36066                   |\n",
       "| Haiti                      | 36.32500                   |\n",
       "| Holand-Netherlands         | 40.00000                   |\n",
       "| Honduras                   | 34.33333                   |\n",
       "| Hong                       | 39.14286                   |\n",
       "| Hungary                    | 31.30000                   |\n",
       "| India                      | 38.23333                   |\n",
       "| Iran                       | 41.44000                   |\n",
       "| Ireland                    | 40.94737                   |\n",
       "| Italy                      | 39.62500                   |\n",
       "| Jamaica                    | 38.23944                   |\n",
       "| Japan                      | 41.00000                   |\n",
       "| Laos                       | 40.37500                   |\n",
       "| Mexico                     | 40.00328                   |\n",
       "| Nicaragua                  | 36.09375                   |\n",
       "| Outlying-US(Guam-USVI-etc) | 41.85714                   |\n",
       "| Peru                       | 35.06897                   |\n",
       "| Philippines                | 38.06569                   |\n",
       "| Poland                     | 38.16667                   |\n",
       "| Portugal                   | 41.93939                   |\n",
       "| Puerto-Rico                | 38.47059                   |\n",
       "| Scotland                   | 39.44444                   |\n",
       "| South                      | 40.15625                   |\n",
       "| Taiwan                     | 33.77419                   |\n",
       "| Thailand                   | 42.86667                   |\n",
       "| Trinadad&Tobago            | 37.05882                   |\n",
       "| United-States              | 38.79913                   |\n",
       "| Vietnam                    | 37.19355                   |\n",
       "| Yugoslavia                 | 41.60000                   |\n",
       "\n"
      ],
      "text/plain": [
       "   native.country             mean    \n",
       "1  ?                          40.16476\n",
       "2  Cambodia                   41.41667\n",
       "3  Canada                     37.91463\n",
       "4  China                      37.38182\n",
       "5  Columbia                   38.68421\n",
       "6  Cuba                       37.98571\n",
       "7  Dominican-Republic         42.33824\n",
       "8  Ecuador                    38.04167\n",
       "9  El-Salvador                36.03093\n",
       "10 England                    40.48333\n",
       "11 France                     41.05882\n",
       "12 Germany                    39.13978\n",
       "13 Greece                     41.80952\n",
       "14 Guatemala                  39.36066\n",
       "15 Haiti                      36.32500\n",
       "16 Holand-Netherlands         40.00000\n",
       "17 Honduras                   34.33333\n",
       "18 Hong                       39.14286\n",
       "19 Hungary                    31.30000\n",
       "20 India                      38.23333\n",
       "21 Iran                       41.44000\n",
       "22 Ireland                    40.94737\n",
       "23 Italy                      39.62500\n",
       "24 Jamaica                    38.23944\n",
       "25 Japan                      41.00000\n",
       "26 Laos                       40.37500\n",
       "27 Mexico                     40.00328\n",
       "28 Nicaragua                  36.09375\n",
       "29 Outlying-US(Guam-USVI-etc) 41.85714\n",
       "30 Peru                       35.06897\n",
       "31 Philippines                38.06569\n",
       "32 Poland                     38.16667\n",
       "33 Portugal                   41.93939\n",
       "34 Puerto-Rico                38.47059\n",
       "35 Scotland                   39.44444\n",
       "36 South                      40.15625\n",
       "37 Taiwan                     33.77419\n",
       "38 Thailand                   42.86667\n",
       "39 Trinadad&Tobago            37.05882\n",
       "40 United-States              38.79913\n",
       "41 Vietnam                    37.19355\n",
       "42 Yugoslavia                 41.60000"
      ]
     },
     "metadata": {},
     "output_type": "display_data"
    }
   ],
   "source": [
    "low %>% group_by(native.country) %>% summarise(mean = mean(hours.per.week))"
   ]
  }
 ],
 "metadata": {
  "kernelspec": {
   "display_name": "Python 3",
   "language": "python",
   "name": "python3"
  },
  "language_info": {
   "codemirror_mode": {
    "name": "ipython",
    "version": 3
   },
   "file_extension": ".py",
   "mimetype": "text/x-python",
   "name": "python",
   "nbconvert_exporter": "python",
   "pygments_lexer": "ipython3",
   "version": "3.7.2"
  }
 },
 "nbformat": 4,
 "nbformat_minor": 2
}
