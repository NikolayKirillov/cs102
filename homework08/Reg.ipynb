{
 "cells": [
  {
   "cell_type": "code",
   "execution_count": 12,
   "metadata": {},
   "outputs": [],
   "source": [
    "from sklearn.datasets import load_boston\n",
    "import pandas as pd\n",
    "import numpy as np\n",
    "import matplotlib.pyplot as plt\n",
    "from sklearn.model_selection import train_test_split\n",
    "from sklearn.metrics import mean_squared_error\n",
    "from sklearn.linear_model import SGDRegressor\n",
    "from sklearn.preprocessing import StandardScaler\n",
    "\n",
    "#Метод градиентного спуска это простой метод для поиска локального минимума функции\n",
    "\n",
    "class GDRegressor:\n",
    "\n",
    "    def __init__(self, alpha=0.01, max_iter=100):\n",
    "        self.alpha = alpha\n",
    "        self.max_iter = max_iter\n",
    "\n",
    "    def fit(self, X_train, y_train):  #Обучает модель на данных X_train (матрица признаков) и y_train(вектор ответов).\n",
    "        if type(X_train) == list:\n",
    "            pass\n",
    "        else:\n",
    "            X_train = X_train.values.tolist()\n",
    "\n",
    "        if type(y_train) == list:\n",
    "            pass\n",
    "        else:\n",
    "            y_train = y_train.values.tolist()\n",
    "\n",
    "        X_matrix = []\n",
    "        for i in range(len(X_train)):\n",
    "            X_train[i].insert(0, 1)\n",
    "            X_matrix.append(X_train[i])\n",
    "        X_as_matrix = np.asmatrix(X_matrix)\n",
    "\n",
    "        y_matrix = []\n",
    "        for i in range(len(y_train)):\n",
    "            y_matrix.append([y_train[i]])\n",
    "\n",
    "        m = len(y_train)\n",
    "        self.theta = np.zeros((len(X_matrix[0]), 1))\n",
    "\n",
    "        for i in range(self.max_iter):\n",
    "            self.theta = self.theta - self.alpha * (1 / m) * (np.matmul(X_as_matrix.T,\n",
    "                                                                        (np.matmul(X_matrix, self.theta) - y_matrix)))\n",
    "\n",
    "        theta_list = np.matrix.tolist(self.theta)\n",
    "        self.coef_ = theta_list[1:]  # Coef - вектор оценок тетта(i)\n",
    "        self.intercept_ = theta_list[0]  # Intercept - оцененное значение тетта(0)\n",
    "        return theta_list\n",
    "    def predict(self, X_test):  # Возвращение вектора прогнозов для новых данных\n",
    "        if type(X_test) == list:\n",
    "            pass\n",
    "        else:\n",
    "            X_test = X_test.values.tolist()\n",
    "        X_matrix_test = []\n",
    "        for i in range(len(X_test)):\n",
    "            X_test[i].insert(0, 1)\n",
    "            X_matrix_test.append(X_test[i])\n",
    "        answers = np.matmul(X_matrix_test, self.theta)\n",
    "        return answers"
   ]
  },
  {
   "cell_type": "markdown",
   "metadata": {},
   "source": [
    "Пример использования"
   ]
  },
  {
   "cell_type": "code",
   "execution_count": 2,
   "metadata": {},
   "outputs": [],
   "source": [
    "boston = load_boston()\n",
    "data = pd.DataFrame(data=boston.data, columns=boston.feature_names)\n",
    "data[\"MEDV\"] = boston.target\n",
    "X = data[[\"RM\"]]\n",
    "y = data[\"MEDV\"]"
   ]
  },
  {
   "cell_type": "code",
   "execution_count": 3,
   "metadata": {},
   "outputs": [
    {
     "name": "stdout",
     "output_type": "stream",
     "text": [
      "[[7.075547657596516]] [-21.79244730287655]\n"
     ]
    }
   ],
   "source": [
    "X_train, X_test, y_train, y_test = train_test_split(X, y, test_size=0.33, random_state=18)\n",
    "model = GDRegressor(alpha=0.04, max_iter=2000)\n",
    "model.fit(X_train, y_train)\n",
    "answers = model.predict(X_test)\n",
    "print(model.coef_, model.intercept_)"
   ]
  },
  {
   "cell_type": "code",
   "execution_count": 4,
   "metadata": {},
   "outputs": [
    {
     "data": {
      "image/png": "[encoded data removed]",
      "text/plain": [
       "<Figure size 432x288 with 1 Axes>"
      ]
     },
     "metadata": {
      "needs_background": "light"
     },
     "output_type": "display_data"
    }
   ],
   "source": [
    "plt.scatter(data[\"RM\"], data[\"MEDV\"])\n",
    "plt.xlabel(\"RM\")\n",
    "plt.ylabel(\"MEDV\")\n",
    "plt.plot(X_train, model.coef_ * X_train + model.intercept_, \"r\")\n",
    "plt.show()"
   ]
  },
  {
   "cell_type": "markdown",
   "metadata": {},
   "source": [
    "Оценка качества модели"
   ]
  },
  {
   "cell_type": "code",
   "execution_count": 5,
   "metadata": {},
   "outputs": [],
   "source": [
    "def rmse(y_hat, y):  # Отклонение реальных данных от линии регрессии\n",
    "    \"\"\" Root mean squared error \"\"\"\n",
    "    if type(y) == list:\n",
    "        pass\n",
    "    else:\n",
    "        y = y.values.tolist()\n",
    "    m = len(y)\n",
    "    sum = 0\n",
    "    for i in range(m):\n",
    "        sum += ((y_hat[i] - y[i]) ** 2 / m)\n",
    "    error = np.sqrt(sum)\n",
    "    return error\n",
    "\n",
    "\n",
    "def r_squared(y_hat, y):  # Коэффициент детерминации (доля дисперсии зависимой переменной)\n",
    "    \"\"\" R-squared score \"\"\"\n",
    "    if type(y) == list:\n",
    "        pass\n",
    "    else:\n",
    "        y = y.values.tolist()\n",
    "    m = len(y)\n",
    "    y_avg = np.average(y)\n",
    "\n",
    "    a = b = 0\n",
    "    for i in range(m):\n",
    "        a += (y[i] - y_hat[i]) ** 2\n",
    "        b += (y[i] - y_avg) ** 2\n",
    "    error = 1 - a / b\n",
    "    return error"
   ]
  },
  {
   "cell_type": "code",
   "execution_count": 6,
   "metadata": {},
   "outputs": [
    {
     "name": "stdout",
     "output_type": "stream",
     "text": [
      "RMSE =  [[6.50025692]]\n",
      "R_SQUARED =  [[0.48822629]]\n"
     ]
    }
   ],
   "source": [
    "rmse_value = rmse(answers, y_test)\n",
    "r_squared = r_squared(answers, y_test)\n",
    "print(\"RMSE = \",rmse_value)\n",
    "print(\"R_SQUARED = \",r_squared)"
   ]
  },
  {
   "cell_type": "markdown",
   "metadata": {},
   "source": [
    "Найдем оптимальные значения alpha и количества итераций"
   ]
  },
  {
   "cell_type": "code",
   "execution_count": 7,
   "metadata": {},
   "outputs": [],
   "source": [
    "def plot_cost_function(X, y, estimator=None, max_iters=100, eta0=0.01, params=None, normalize=False):\n",
    "    if estimator is SGDRegressor:\n",
    "        if not params:\n",
    "            params = {\n",
    "                \"loss\": \"squared_loss\",\n",
    "                \"penalty\": \"none\",\n",
    "                \"learning_rate\": \"constant\",\n",
    "            }\n",
    "        else:\n",
    "            params.update(params)\n",
    "\n",
    "    X_train, X_test, Y_train, Y_test = train_test_split(X, y, test_size=0.33, random_state=18)\n",
    "\n",
    "    if normalize:\n",
    "        X_train = StandardScaler().fit_transform(X_train)\n",
    "        Y_train = StandardScaler().fit_transform(Y_train.values.reshape(-1, 1))\n",
    "        X_test = StandardScaler().fit_transform(X_test)\n",
    "        Y_test = StandardScaler().fit_transform(Y_test.values.reshape(-1, 1))\n",
    "\n",
    "    cost_history = []\n",
    "    for it in range(5, max_iters, round(max_iters * 0.01)):\n",
    "        if estimator is SGDRegressor:\n",
    "            model = estimator(max_iter=it, eta0=eta0, **params)\n",
    "        else:\n",
    "            model = estimator(max_iter=it, alpha=eta0)\n",
    "        model.fit(X_train, Y_train)\n",
    "        Y_pred = model.predict(X_test)\n",
    "        mse = mean_squared_error(Y_test, Y_pred)\n",
    "        cost_history.append([it, mse])\n",
    "\n",
    "    iterations, errors = list(zip(*cost_history))\n",
    "    plt.plot(iterations, errors, \"-\")\n",
    "    plt.xlabel(\"#Iteration\")\n",
    "    plt.ylabel(\"MSE\")\n",
    "    plt.show()"
   ]
  },
  {
   "cell_type": "code",
   "execution_count": 8,
   "metadata": {},
   "outputs": [
    {
     "data": {
      "image/png": "[encoded data removed]",
      "text/plain": [
       "<Figure size 432x288 with 1 Axes>"
      ]
     },
     "metadata": {
      "needs_background": "light"
     },
     "output_type": "display_data"
    }
   ],
   "source": [
    "plot_cost_function(X, y, GDRegressor, max_iters=2000, eta0=0.04)"
   ]
  },
  {
   "cell_type": "markdown",
   "metadata": {},
   "source": [
    "Удаляем значения, при которых MED = 50"
   ]
  },
  {
   "cell_type": "code",
   "execution_count": 9,
   "metadata": {},
   "outputs": [
    {
     "data": {
      "image/png": "[encoded data removed]",
      "text/plain": [
       "<Figure size 432x288 with 1 Axes>"
      ]
     },
     "metadata": {
      "needs_background": "light"
     },
     "output_type": "display_data"
    }
   ],
   "source": [
    "X_filtered = data[(data[\"MEDV\"] < 50)][[\"RM\"]]\n",
    "y_filtered = data[(data[\"MEDV\"] < 50)][\"MEDV\"]\n",
    "plot_cost_function(X_filtered, y_filtered, GDRegressor, max_iters=2000, eta0=0.03)"
   ]
  },
  {
   "cell_type": "markdown",
   "metadata": {},
   "source": [
    "Нормализация значений"
   ]
  },
  {
   "cell_type": "code",
   "execution_count": 10,
   "metadata": {},
   "outputs": [],
   "source": [
    "def z_scaler(feature):\n",
    "    return (feature - feature.mean()) / feature.std()"
   ]
  },
  {
   "cell_type": "code",
   "execution_count": 11,
   "metadata": {},
   "outputs": [
    {
     "data": {
      "image/png": "[encoded data removed]",
      "text/plain": [
       "<Figure size 432x288 with 1 Axes>"
      ]
     },
     "metadata": {
      "needs_background": "light"
     },
     "output_type": "display_data"
    }
   ],
   "source": [
    "X_scaled = z_scaler(X_filtered)\n",
    "y_scaled = z_scaler(y_filtered)\n",
    "plot_cost_function(X_scaled, y_scaled, GDRegressor, max_iters=300, eta0=0.04)"
   ]
  },
  {
   "cell_type": "code",
   "execution_count": null,
   "metadata": {},
   "outputs": [],
   "source": []
  }
 ],
 "metadata": {
  "kernelspec": {
   "display_name": "Python 3",
   "language": "python",
   "name": "python3"
  },
  "language_info": {
   "codemirror_mode": {
    "name": "ipython",
    "version": 3
   },
   "file_extension": ".py",
   "mimetype": "text/x-python",
   "name": "python",
   "nbconvert_exporter": "python",
   "pygments_lexer": "ipython3",
   "version": "3.7.3"
  }
 },
 "nbformat": 4,
 "nbformat_minor": 2
}
