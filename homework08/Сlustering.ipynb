{
 "cells": [
  {
   "cell_type": "markdown",
   "metadata": {},
   "source": [
    "# Кластеризация"
   ]
  },
  {
   "cell_type": "markdown",
   "metadata": {},
   "source": [
    "## Алгоритм k-средних"
   ]
  },
  {
   "cell_type": "markdown",
   "metadata": {},
   "source": [
    "Кластерный анализ – это способ группировки многомерных объектов, основанный на представлении результатов отдельных наблюдений точками подходящего геометрического пространства с последующим выделением групп как «сгустков» этих точек (кластеров, таксонов). Задачей такого разделения на группы является ухватить естественную структуру данных и абстрагироваться от индивидуальных характеристик каждого объекта к более общим признакам, которые объединяют эти объекты в кластеры. \n",
    "\n",
    "Так как заранее не известно по каким признакам следует объединять объекты в кластеры, то кластерный анализ относят к методам обучения без учителя (unsupervised learning)."
   ]
  },
  {
   "cell_type": "code",
   "execution_count": 1,
   "metadata": {},
   "outputs": [],
   "source": [
    "import pandas as pd\n",
    "import numpy as np\n",
    "from copy import deepcopy\n",
    "import matplotlib.pyplot as plt\n",
    "from sklearn import datasets\n",
    "import seaborn as sns"
   ]
  },
  {
   "cell_type": "code",
   "execution_count": 2,
   "metadata": {},
   "outputs": [],
   "source": [
    "%matplotlib inline\n",
    "import random\n",
    "import math\n",
    "from math import fsum\n",
    "from math import sqrt\n",
    "from copy import deepcopy"
   ]
  },
  {
   "cell_type": "markdown",
   "metadata": {},
   "source": [
    "в методе k-средних значение каждого признака объекта воспринимается как координата в многомерном пространстве (например, если у нам известен только рост и вес человека, то мы имеем дело с двумерным объектом, где одна из координат это рост, а вторая - вес); схожесть объектов можно вычислить используя любую математическую функцию (метрику) схожести; обычно выбирается Евклидово расстояние"
   ]
  },
  {
   "cell_type": "code",
   "execution_count": 3,
   "metadata": {},
   "outputs": [],
   "source": [
    "def distance(v1, v2, ax=1):\n",
    "    return np.linalg.norm(v1 - v2, axis=ax)   # Расстояние между точками и центроидами\n"
   ]
  },
  {
   "cell_type": "markdown",
   "metadata": {},
   "source": [
    "Одним из наиболее простых и распространенных алгоритмов кластеризации является алгоритм k-средних (k-means), в котором каждый кластер представлен его центром (центроидом).\n",
    "\n",
    "Метод k-средних – это метод кластерного анализа, цель которого является разделение m наблюдений (из пространства ) на k кластеров, при этом каждое наблюдение относится к тому кластеру, к центру (центроиду) которого оно ближе всего. "
   ]
  },
  {
   "cell_type": "markdown",
   "metadata": {},
   "source": [
    "k означает число кластеров. Число кластеров не определяется автоматически и в каждом кластере может быть разное число объектов;\n",
    "\n",
    "k-средних использует двух шаговый эвристический* подход к группированию похожих объектов: шаг присваивания и шаг обновления;\n",
    "\n",
    "схожесть (похожесть) объектов измеряется с помощью функции дистанции."
   ]
  },
  {
   "cell_type": "markdown",
   "metadata": {},
   "source": [
    "Сноски:\n",
    "\n",
    "* Эвристический алгоритм (эвристика) — алгоритм решения задачи, включающий практический метод, не являющийся гарантированно точным или оптимальным, но достаточный для решения поставленной задачи. Позволяет ускорить решение задачи в тех случаях, когда точное решение не может быть найдено."
   ]
  },
  {
   "cell_type": "code",
   "execution_count": 4,
   "metadata": {},
   "outputs": [],
   "source": [
    "class KMeans:\n",
    "    def __init__(self, n_clusters, max_iter=500):\n",
    "        self.n_clusters = n_clusters\n",
    "        self.max_iter = max_iter\n",
    "\n",
    "    def fit(self, X):\n",
    "        n_samples = len(X)\n",
    "        centroids = X[np.random.choice(X.shape[0], self.n_clusters, replace=False)]\n",
    "        centroids_old = np.zeros(centroids.shape)   \n",
    "        clusters = np.zeros(n_samples)  \n",
    "\n",
    "        while True:\n",
    "            for i in range(n_samples):\n",
    "                distances = distance(X[i,], centroids)\n",
    "                clusters[i] = distances.argmin()\n",
    "            centroids_old = deepcopy(centroids)\n",
    "            for k in range(self.n_clusters):\n",
    "                centroids[k] = X[clusters == k,].mean(axis=0) \n",
    "            error = distance(centroids, centroids_old, None)\n",
    "            if (error >= 0) and (error <= 0.01):\n",
    "                self.clusters = clusters.astype(\"int\") \n",
    "                self.centroids = centroids\n",
    "                break\n",
    "\n",
    "    def predict(self, y):\n",
    "        y_unique = np.unique(y)  \n",
    "        y_unique_num = [i for i in range(len(np.unique(y)))]    \n",
    "        n_samples = len(X)\n",
    "        clusters = np.zeros(n_samples)  \n",
    "        for k in range(n_samples):  \n",
    "            for j in range(self.n_clusters):\n",
    "                if y[k][0] == y_unique[j]:\n",
    "                    y[k] = y_unique_num[j]\n",
    "            clusters[k] = y[k]\n",
    "        centroids = X[np.random.choice(X.shape[0], self.n_clusters,\n",
    "                                       replace=False)]   \n",
    "        centroids_old = np.zeros(centroids.shape)  \n",
    "        while True:\n",
    "            centroids_old = deepcopy(centroids)\n",
    "            error = distance(centroids, centroids_old, None)\n",
    "            if error == 0:\n",
    "                self.clusters = clusters.astype(int)\n",
    "                self.centroids = centroids\n",
    "        return self.centroids, self.clusters \n"
   ]
  },
  {
   "cell_type": "code",
   "execution_count": 5,
   "metadata": {},
   "outputs": [],
   "source": [
    "iris = pd.read_csv(\"iris.csv\")"
   ]
  },
  {
   "cell_type": "code",
   "execution_count": 6,
   "metadata": {},
   "outputs": [
    {
     "name": "stderr",
     "output_type": "stream",
     "text": [
      "C:\\Users\\123\\Anaconda3\\lib\\site-packages\\ipykernel_launcher.py:1: FutureWarning: Method .as_matrix will be removed in a future version. Use .values instead.\n",
      "  \"\"\"Entry point for launching an IPython kernel.\n"
     ]
    }
   ],
   "source": [
    "X = iris.loc[:, iris.columns != \"Name\"].as_matrix()"
   ]
  },
  {
   "cell_type": "code",
   "execution_count": 7,
   "metadata": {},
   "outputs": [],
   "source": [
    "model = KMeans(3)\n",
    "model.fit(X)"
   ]
  },
  {
   "cell_type": "code",
   "execution_count": 8,
   "metadata": {},
   "outputs": [
    {
     "data": {
      "text/plain": [
       "<Figure size 1008x504 with 0 Axes>"
      ]
     },
     "metadata": {},
     "output_type": "display_data"
    }
   ],
   "source": [
    "clusters = model.clusters\n",
    "plt.figure(figsize=(14, 7))\n",
    "colormap = np.array([\"black\", \"red\", \"yellow\"]) # Create a colormap"
   ]
  },
  {
   "cell_type": "code",
   "execution_count": 9,
   "metadata": {},
   "outputs": [
    {
     "data": {
      "image/png": "[encoded data removed]",
      "text/plain": [
       "<Figure size 432x288 with 1 Axes>"
      ]
     },
     "metadata": {
      "needs_background": "light"
     },
     "output_type": "display_data"
    }
   ],
   "source": [
    "plt.subplot(1, 2, 1)\n",
    "plt.scatter(iris.SepalLength, iris.SepalWidth, c=colormap[clusters], s=40)\n",
    "plt.title(\"Sepal\") #чашелистник\n",
    "plt.show()"
   ]
  },
  {
   "cell_type": "code",
   "execution_count": null,
   "metadata": {},
   "outputs": [],
   "source": []
  }
 ],
 "metadata": {
  "kernelspec": {
   "display_name": "Python 3",
   "language": "python",
   "name": "python3"
  },
  "language_info": {
   "codemirror_mode": {
    "name": "ipython",
    "version": 3
   },
   "file_extension": ".py",
   "mimetype": "text/x-python",
   "name": "python",
   "nbconvert_exporter": "python",
   "pygments_lexer": "ipython3",
   "version": "3.7.3"
  }
 },
 "nbformat": 4,
 "nbformat_minor": 2
}
